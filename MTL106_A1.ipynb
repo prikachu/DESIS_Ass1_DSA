{
  "nbformat": 4,
  "nbformat_minor": 0,
  "metadata": {
    "colab": {
      "provenance": [],
      "authorship_tag": "ABX9TyMrWonl/8IK9jhQLW+Odpum",
      "include_colab_link": true
    },
    "kernelspec": {
      "name": "python3",
      "display_name": "Python 3"
    },
    "language_info": {
      "name": "python"
    }
  },
  "cells": [
    {
      "cell_type": "markdown",
      "metadata": {
        "id": "view-in-github",
        "colab_type": "text"
      },
      "source": [
        "<a href=\"https://colab.research.google.com/github/prikachu/DESIS_Ass1_DSA/blob/main/MTL106_A1.ipynb\" target=\"_parent\"><img src=\"https://colab.research.google.com/assets/colab-badge.svg\" alt=\"Open In Colab\"/></a>"
      ]
    },
    {
      "cell_type": "markdown",
      "source": [
        "#**ASSIGNMENT 1**\n",
        "\n",
        "Name: Prachi Jindal\n",
        "\n",
        "Entry No: 2022EE11682"
      ],
      "metadata": {
        "id": "WERupKtaj7hj"
      }
    },
    {
      "cell_type": "markdown",
      "source": [
        "**Part 1**\n",
        "\n",
        "Choosing the warrior with the highest strength."
      ],
      "metadata": {
        "id": "ACrPwXBWkekE"
      }
    },
    {
      "cell_type": "code",
      "source": [
        "import random\n",
        "\n",
        "def part_1(num_samples):\n",
        "    no_wins = 0\n",
        "\n",
        "    for _ in range(num_samples):\n",
        "        alice = [3,4,6,7]\n",
        "        prachi = [8,6,2,1]\n",
        "        p_ind = 0\n",
        "        while (len(alice)>0 and p_ind<4):\n",
        "            a_ind = random.randint(0,len(alice)-1)\n",
        "            aw = alice[a_ind]\n",
        "            pw = prachi[p_ind]\n",
        "\n",
        "            choices = [\"alice\", \"prachi\"]\n",
        "            weights = [aw/(aw+pw),pw/(aw+pw)]\n",
        "\n",
        "            winner = random.choices(choices, weights=weights, k=1)[0]\n",
        "\n",
        "            if winner == \"alice\":\n",
        "                p_ind +=1\n",
        "                alice[a_ind] = aw + pw\n",
        "            else:\n",
        "                alice.remove(aw)\n",
        "                prachi[p_ind] = aw + pw\n",
        "\n",
        "        if len(alice) == 0:\n",
        "            no_wins += 1\n",
        "\n",
        "    return no_wins/num_samples\n",
        "\n",
        "\n",
        "num_samples = 100000\n",
        "estimated_probability = part_1(num_samples)\n",
        "print(f\"Estimated probability of winning with {num_samples} samples: {estimated_probability}\")\n",
        "\n",
        "\n"
      ],
      "metadata": {
        "colab": {
          "base_uri": "https://localhost:8080/"
        },
        "id": "waq6ORCc8prt",
        "outputId": "c5abf367-abcf-4286-8d4b-5bc8b77dec7b"
      },
      "execution_count": 64,
      "outputs": [
        {
          "output_type": "stream",
          "name": "stdout",
          "text": [
            "Estimated probability of winning with 100000 samples: 0.45717\n"
          ]
        }
      ]
    },
    {
      "cell_type": "markdown",
      "source": [
        "The estimated probability is close to 0.45946"
      ],
      "metadata": {
        "id": "S9Wy55s2kq8z"
      }
    },
    {
      "cell_type": "markdown",
      "source": [
        "**Part 2**\n",
        "\n",
        "Choosing the warrior with the least strength."
      ],
      "metadata": {
        "id": "Rl15Q_H-lDeJ"
      }
    },
    {
      "cell_type": "code",
      "source": [
        "import random\n",
        "\n",
        "def part_2(num_samples):\n",
        "    no_wins = 0\n",
        "\n",
        "    for _ in range(num_samples):\n",
        "        alice = [3,4,6,7]\n",
        "        prachi = [1,2,6,8]\n",
        "        while (len(alice)>0 and len(prachi)>0):\n",
        "            a_ind = random.randint(0,len(alice)-1)\n",
        "            aw = alice[a_ind]\n",
        "            prachi.sort()\n",
        "            pw = prachi[0]\n",
        "            choices = [\"alice\", \"prachi\"]\n",
        "            weights = [aw/(aw+pw),pw/(aw+pw)]\n",
        "\n",
        "            winner = random.choices(choices, weights=weights, k=1)[0]\n",
        "\n",
        "            if winner == \"alice\":\n",
        "                prachi.remove(pw)\n",
        "                alice[a_ind] = aw + pw\n",
        "            else:\n",
        "                alice.remove(aw)\n",
        "                prachi[0] = aw + pw\n",
        "\n",
        "        if len(alice) == 0:\n",
        "            no_wins += 1\n",
        "\n",
        "    return no_wins/num_samples\n",
        "\n",
        "\n",
        "num_samples = 100000\n",
        "estimated_probability = part_2(num_samples)\n",
        "print(f\"Estimated probability of winning with {num_samples} samples: {estimated_probability}\")"
      ],
      "metadata": {
        "colab": {
          "base_uri": "https://localhost:8080/"
        },
        "id": "uKw-NMFH__2a",
        "outputId": "eeb04515-2b2e-4e81-f3eb-a084cd000807"
      },
      "execution_count": 65,
      "outputs": [
        {
          "output_type": "stream",
          "name": "stdout",
          "text": [
            "Estimated probability of winning with 100000 samples: 0.45864\n"
          ]
        }
      ]
    },
    {
      "cell_type": "markdown",
      "source": [
        "The estimated probability is close to 0.45946"
      ],
      "metadata": {
        "id": "_JPgkldTlMmf"
      }
    },
    {
      "cell_type": "markdown",
      "source": [
        "**Part 3**\n",
        "\n",
        "Calculation of expected gain at each step,i.e., finding out if every match is fair(E(X)=0) or not?"
      ],
      "metadata": {
        "id": "68I2kbA2lUcf"
      }
    },
    {
      "cell_type": "markdown",
      "source": [
        "\\begin{align*}\n",
        "\\text{Let } x \\text{ be the strength of Alice's warrior and } y \\text{ be the strength of my warrior.} \\\\\n",
        "\\text{We calculate the expectation value for the expected strength as:}\\\\\n",
        "& {E(X) = P({I win}) \\times (Strength_{Alice Warrior}) - P(Ilose) \\times (Strength_{MyWarrior}) }\\\\\n",
        "&= \\frac{y \\times \\left(\\frac{x}{x+y}\\right) - x \\times \\left(\\frac{y}{x+y}\\right)}{1} \\\\\n",
        "&= \\frac{yx - xy}{x+y} \\\\\n",
        "&= \\frac{0}{x+y} \\\\\n",
        "&= 0 \\\\\n",
        "\\text{Hence, the expected gain in each match is 0. Every match is fair.} \\\\\n",
        "\\end{align*}\n"
      ],
      "metadata": {
        "id": "kubLK9QG-rUf"
      }
    },
    {
      "cell_type": "markdown",
      "source": [
        "**Part 4**\n",
        "\n",
        "Since the expected gain of each match is same regardless of the values of x and y, the order in which we choose the warriors does not matter. Hence, there is no stratergy possible which performs better than all others. In a way, all stratergies would be optimal. For running the simulations for this part, I randomly choose my warriors."
      ],
      "metadata": {
        "id": "XtpvYmomlvr3"
      }
    },
    {
      "cell_type": "code",
      "source": [
        "def part_4(num_samples):\n",
        "    no_wins = 0\n",
        "\n",
        "\n",
        "    for _ in range(num_samples):\n",
        "        alice = [3,4,6,7]\n",
        "        prachi = [8,2,1,6]\n",
        "        while (len(alice)>0 and len(prachi)>0):\n",
        "            a_ind = random.randint(0,len(alice)-1)\n",
        "            p_ind = random.randint(0,len(prachi)-1)\n",
        "            aw = alice[a_ind]\n",
        "            pw = prachi[p_ind]\n",
        "\n",
        "            choices = [\"alice\", \"prachi\"]\n",
        "            weights = [aw/(aw+pw),pw/(aw+pw)]\n",
        "\n",
        "            winner = random.choices(choices, weights=weights, k=1)[0]\n",
        "\n",
        "            if winner == \"alice\":\n",
        "                prachi.remove(pw)\n",
        "                alice[a_ind] = aw + pw\n",
        "            else:\n",
        "                alice.remove(aw)\n",
        "                prachi[p_ind] = aw + pw\n",
        "\n",
        "        if len(alice) == 0:\n",
        "            no_wins += 1\n",
        "    return no_wins/num_samples\n",
        "\n",
        "\n",
        "\n",
        "num_samples = 100000\n",
        "estimated_probability = part_4(num_samples)\n",
        "print(f\"Estimated probability of winning with {num_samples} samples: {estimated_probability}\")"
      ],
      "metadata": {
        "id": "N4qKdVnF-PJl",
        "colab": {
          "base_uri": "https://localhost:8080/"
        },
        "outputId": "562235e4-ef19-4697-8389-3279bfb9d8d5"
      },
      "execution_count": 66,
      "outputs": [
        {
          "output_type": "stream",
          "name": "stdout",
          "text": [
            "Estimated probability of winning with 100000 samples: 0.4591\n"
          ]
        }
      ]
    },
    {
      "cell_type": "markdown",
      "source": [
        "**Calculation of theoretical probability: Proof by induction**\n",
        "\n",
        "For any $a, p, n \\in \\mathbb{N}$, where $a,p$ are the sum of strengths of all warriors of alice and me respectively and $n$ is the number of total warriors alive.\n",
        "\n",
        "Let $P_n(a, p)$ denote the probability of me winning the tournament.\n",
        "\n",
        "\n",
        "---\n",
        "\n",
        "\n",
        "**Induction Hypothesis:**\n",
        "\n",
        "Claim: $P_n(a, p) = \\frac{p}{a+p}$\n",
        "\n",
        "Base Case: We take $n=1$.\n",
        "\n",
        "The alive warrior belongs to me. Therefore, $a$ = 0 and $P_n(0, p) = 1$. Which is true.\n",
        "\n",
        "The alive warrior belong to Alice. Therefore, $p$ = 0 and $P_n(a, 0) = 0$. Which is true.\n",
        "\n",
        "Hence, we have verified the base case.\n",
        "\n",
        "\n",
        "---\n",
        "\n",
        "**Proof**\n",
        "\n",
        "Suppose that in a match Alice's warrior has strength $x$, and my warrior has strength $y$. Then\n",
        "\\begin{align*}\n",
        "    P_n(a, p) &= P(\\text{I win tournament} \\mid \\text{I win match}) \\cdot P(\\text{I win match}) + P(\\text{I win tournament} \\mid \\text{I lose match}) \\cdot P(\\text{I lose match}) \\\\\n",
        "    &= \\frac{p+x}{(a-x) + (p+x)} \\cdot \\frac{y}{x+y} + \\frac{p-y}{(a+y) + (p-y)} \\cdot \\frac{x}{x+y} \\\\\n",
        "    &= \\frac{p \\cdot y + x \\cdot y}{(a+p)(x+y)} +\\frac{p \\cdot x - x \\cdot y}{(a+p)(x+y)} \\\\\n",
        "    &= \\frac{(p)(x+y)}{(a+p)(x+y)} \\\\\n",
        "    &= \\frac{p}{a+p} \\\\\n",
        "\\end{align*}\n",
        "\n",
        "This completes the proof by induction.\n",
        "\n",
        "\n",
        "---\n",
        "We can also see this from the fact that since the expected gain of each match is 0, the strength should remain the same after the tournament. This clearly implies the probability that we calculated.\n"
      ],
      "metadata": {
        "id": "7bq1oNzbRaqU"
      }
    },
    {
      "cell_type": "markdown",
      "source": [
        "In our case, $p$ = 17 and $a$ = 20\n",
        "\n",
        "Theoretical value of probability = 17/37 = 0.45946\n",
        "\n",
        "The estimated value of probability is close to the theoretical value."
      ],
      "metadata": {
        "id": "-CYUw8c5m2Z9"
      }
    }
  ]
}